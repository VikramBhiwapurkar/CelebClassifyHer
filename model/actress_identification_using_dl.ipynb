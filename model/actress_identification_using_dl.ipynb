{
 "cells": [
  {
   "cell_type": "code",
   "execution_count": 95,
   "id": "1144ca21",
   "metadata": {},
   "outputs": [],
   "source": [
    "import pandas as pd\n",
    "from matplotlib import pyplot as plt\n",
    "import cv2\n",
    "%matplotlib inline"
   ]
  },
  {
   "cell_type": "code",
   "execution_count": 96,
   "id": "d812f5e1",
   "metadata": {},
   "outputs": [],
   "source": [
    "path_dataset=\"../dataset\"\n",
    "path_cropped_dataset=\"../dataset/cropped/\""
   ]
  },
  {
   "cell_type": "code",
   "execution_count": 97,
   "id": "c3022f00",
   "metadata": {},
   "outputs": [],
   "source": [
    "import os\n",
    "img_dirs=[]\n",
    "for entry in os.scandir(path_dataset):\n",
    "    if entry.is_dir():\n",
    "        img_dirs.append(entry.path)"
   ]
  },
  {
   "cell_type": "code",
   "execution_count": 98,
   "id": "a547ecd9",
   "metadata": {},
   "outputs": [
    {
     "data": {
      "text/plain": [
       "['../dataset\\\\aishwarya_rai',\n",
       " '../dataset\\\\alia_bhatt',\n",
       " '../dataset\\\\anushka_sharma',\n",
       " '../dataset\\\\deepika_padukon',\n",
       " '../dataset\\\\kareena_kapoor',\n",
       " '../dataset\\\\katrina_kaif',\n",
       " '../dataset\\\\kiara_advani',\n",
       " '../dataset\\\\preeti_zinta',\n",
       " '../dataset\\\\priyanka_chopra',\n",
       " '../dataset\\\\shraddha_kapoor',\n",
       " '../dataset\\\\shruti_hassan',\n",
       " '../dataset\\\\sonam_kapoor']"
      ]
     },
     "execution_count": 98,
     "metadata": {},
     "output_type": "execute_result"
    }
   ],
   "source": [
    "img_dirs"
   ]
  },
  {
   "cell_type": "code",
   "execution_count": 99,
   "id": "3d4d1fd7",
   "metadata": {},
   "outputs": [],
   "source": [
    "#function for getting cropped images with face and eye detected\n",
    "def get_cropped_img(path):\n",
    "    img=cv2.imread(path)\n",
    "    if img is None:\n",
    "        print(f\"Error: Failed to load image at path: {path}\")\n",
    "        return None\n",
    "    \n",
    "    gray=cv2.cvtColor(img,cv2.COLOR_BGR2GRAY)\n",
    "    face=crop_face.detectMultiScale(gray,1.3,5)\n",
    "    for x,y,w,h in face:\n",
    "        roi_gray=gray[y:y+h,x:x+w]\n",
    "        roi_color=img[y:y+h,x:x+w]\n",
    "        eye=crop_eye.detectMultiScale(roi_gray)\n",
    "        if len(eye)>=2:\n",
    "            return roi_color"
   ]
  },
  {
   "cell_type": "code",
   "execution_count": 100,
   "id": "79b13e50",
   "metadata": {},
   "outputs": [],
   "source": [
    "import shutil\n",
    "if os.path.exists(path_cropped_dataset):\n",
    "    shutil.rmtree(path_cropped_dataset)\n",
    "os.mkdir(path_cropped_dataset)"
   ]
  },
  {
   "cell_type": "code",
   "execution_count": 101,
   "id": "9712bc05",
   "metadata": {},
   "outputs": [],
   "source": [
    "crop_face= cv2.CascadeClassifier('../opencv/haarcascade_frontalface_default.xml')\n",
    "crop_eye= cv2.CascadeClassifier('../opencv/haarcascade_eye.xml')"
   ]
  },
  {
   "cell_type": "code",
   "execution_count": 102,
   "id": "dc7cf104",
   "metadata": {},
   "outputs": [
    {
     "name": "stdout",
     "output_type": "stream",
     "text": [
      "Error: Failed to load image at path: ../dataset\\aishwarya_rai\\.ipynb_checkpoints\n",
      "Generating cropped images in folder../dataset/cropped/aishwarya_rai\n",
      "Error: Failed to load image at path: ../dataset\\aishwarya_rai\\2607317-aishwarya-rai-doppelganger.jpg\n",
      "Error: Failed to load image at path: ../dataset\\aishwarya_rai\\74HVFT3DOMAO26PQJYBBU7YJBQ.jpg\n",
      "Error: Failed to load image at path: ../dataset\\aishwarya_rai\\874916-aishwaryaraibachchan-longines.jpg\n",
      "Error: Failed to load image at path: ../dataset\\aishwarya_rai\\aishwarya-21.jpg\n",
      "Error: Failed to load image at path: ../dataset\\aishwarya_rai\\aishwarya-jazbaa-story_647_100815042524.jpg_VersionId=dY916hqF1UnuU9k.jpg\n",
      "Error: Failed to load image at path: ../dataset\\aishwarya_rai\\aishwarya-rai-1.jpg\n",
      "Error: Failed to load image at path: ../dataset\\aishwarya_rai\\aishwarya-rai-doppelganger-6.jpg\n",
      "Error: Failed to load image at path: ../dataset\\aishwarya_rai\\aishwarya_rai_1635714936454_1635714947134.jpg\n",
      "Error: Failed to load image at path: ../dataset\\aishwarya_rai\\Aishwarya_Rai_1696652658947_1696652675716.jpg\n",
      "Error: Failed to load image at path: ../dataset\\aishwarya_rai\\Aishwarya_Rai_1698850493416_1698850507653.jpg\n",
      "Error: Failed to load image at path: ../dataset\\aishwarya_rai\\com_lookaside_crawler_media_.jpg\n",
      "Error: Failed to load image at path: ../dataset\\aishwarya_rai\\PTI11-01-2023-000437A-0_1698887123411_1698887146909.jpg\n",
      "Error: Failed to load image at path: ../dataset\\aishwarya_rai\\sunny-1-9.jpg\n",
      "Error: Failed to load image at path: ../dataset\\aishwarya_rai\\untitled-design-28-6-16738686794x3.jpg\n",
      "Generating cropped images in folder../dataset/cropped/alia_bhatt\n",
      "Error: Failed to load image at path: ../dataset\\alia_bhatt\\1548090207-6171.jpg\n",
      "Error: Failed to load image at path: ../dataset\\alia_bhatt\\1572441-fotojet-2022-04-23t142149.016.jpg\n",
      "Error: Failed to load image at path: ../dataset\\alia_bhatt\\20220222034L.jpg_$p=1b7a092&f=16x10&w=852&q=0.jpg\n",
      "Error: Failed to load image at path: ../dataset\\alia_bhatt\\398635.jpg\n",
      "Error: Failed to load image at path: ../dataset\\alia_bhatt\\92ab4c35e3288e09bb8ba1c645ab26eb1698223584922775_original.jpg\n",
      "Error: Failed to load image at path: ../dataset\\alia_bhatt\\com_lookaside_crawler_media_.jpg\n",
      "Error: Failed to load image at path: ../dataset\\alia_bhatt\\com_seo_google_widget_crawler_.jpg\n",
      "Error: Failed to load image at path: ../dataset\\alia_bhatt\\ranbir-alia_5_0.jpg\n",
      "Error: Failed to load image at path: ../dataset\\alia_bhatt\\sidharth-malhotra-together-kapoor-bhatt-were-last_47f14b70-87b8-11e7-817c-4caf18ee223c.jpg\n",
      "Generating cropped images in folder../dataset/cropped/anushka_sharma\n",
      "Error: Failed to load image at path: ../dataset\\anushka_sharma\\8e851a6949bbd71751cebddf56701eba1666607293596557_original.jpg\n",
      "Error: Failed to load image at path: ../dataset\\anushka_sharma\\anuksha-oneplus-1019x573.jpg\n",
      "Error: Failed to load image at path: ../dataset\\anushka_sharma\\anushka_sharma_1200x768.jpg\n",
      "Error: Failed to load image at path: ../dataset\\anushka_sharma\\com_lookaside_crawler_media_.jpg\n",
      "Error: Failed to load image at path: ../dataset\\anushka_sharma\\com_seo_google_widget_crawler_.jpg\n",
      "Error: Failed to load image at path: ../dataset\\anushka_sharma\\MixCollage-20-Nov-2023-08-46-AM-1332.jpg\n",
      "Error: Failed to load image at path: ../dataset\\anushka_sharma\\virat-anushka_1685172063771_1685172078167.jpg\n",
      "Generating cropped images in folder../dataset/cropped/deepika_padukon\n",
      "Error: Failed to load image at path: ../dataset\\deepika_padukon\\deepika-1200-1.jpg\n",
      "Error: Failed to load image at path: ../dataset\\deepika_padukon\\deepika-padukone-who-is-married-to-ranveer-singh-has-been-in-many-relationships-before-him-202101-1609842911.jpg\n",
      "Error: Failed to load image at path: ../dataset\\deepika_padukon\\deepika_padukone_1698521912553_1698521912758.jpg\n",
      "Error: Failed to load image at path: ../dataset\\deepika_padukon\\deep_1653787188055_1653787197294.jpg\n",
      "Error: Failed to load image at path: ../dataset\\deepika_padukon\\fjwu_jmagaiudaf_1200-sixteen_nine.jpg\n",
      "Generating cropped images in folder../dataset/cropped/kareena_kapoor\n",
      "Error: Failed to load image at path: ../dataset\\kareena_kapoor\\2617292-fotojet-2023-11-25t222931.888-1.jpg\n",
      "Error: Failed to load image at path: ../dataset\\kareena_kapoor\\9d4d4505f296d7be543150aeb561e3061693907435853274_original.jpg\n",
      "Error: Failed to load image at path: ../dataset\\kareena_kapoor\\com_seo_google_widget_crawler_.jpg\n",
      "Error: Failed to load image at path: ../dataset\\kareena_kapoor\\kareena-kapoor-and-saif-ali-khan-121229653-16x9.jpg_VersionId=p7zGCVARVObZG1YYwSjV6I.jpg\n",
      "Error: Failed to load image at path: ../dataset\\kareena_kapoor\\Kareena-Kapoor-Khan-1.jpg\n",
      "Error: Failed to load image at path: ../dataset\\kareena_kapoor\\kareena-kapoor-khan-journey-16952249883x2.jpg\n",
      "Error: Failed to load image at path: ../dataset\\kareena_kapoor\\kareena_jaane_jaan_1695277713633_1695277721379.jpg\n",
      "Error: Failed to load image at path: ../dataset\\kareena_kapoor\\kareena_kapoor_khan_and_alia_bhatt_1692369595.jpg\n",
      "Error: Failed to load image at path: ../dataset\\kareena_kapoor\\kareena_kapoor_new_ad_1696923071889_1696923072179.jpg\n",
      "Error: Failed to load image at path: ../dataset\\kareena_kapoor\\koffee-with-karan-karan-johar-kajol-kareena-kapoor-2023-12-72c5598c434aaceb9e7d5c8d0f396039.jpg\n",
      "Error: Failed to load image at path: ../dataset\\kareena_kapoor\\triptii-dimri--kareena-kapoor-khan-and-other-actors-who-stole-the-show-in-2023-143518541-16x9_0.jpg\n",
      "Generating cropped images in folder../dataset/cropped/katrina_kaif\n",
      "Error: Failed to load image at path: ../dataset\\katrina_kaif\\661094.jpg\n",
      "Error: Failed to load image at path: ../dataset\\katrina_kaif\\951823-katrina-kaif-with-her-mother.jpg\n",
      "Error: Failed to load image at path: ../dataset\\katrina_kaif\\c159a32206a37b7974120057c36fe580_original.jpg\n",
      "Error: Failed to load image at path: ../dataset\\katrina_kaif\\com_seo_google_widget_crawler_.jpg\n",
      "Error: Failed to load image at path: ../dataset\\katrina_kaif\\hey-katrina-kaif-you-need-to-retire-the-printed-dresses-asap-201707-1013402.jpg\n",
      "Error: Failed to load image at path: ../dataset\\katrina_kaif\\katrina-afganjalebi.jpg\n",
      "Error: Failed to load image at path: ../dataset\\katrina_kaif\\katrina-kaif-saree7.jpg\n",
      "Error: Failed to load image at path: ../dataset\\katrina_kaif\\katrina-kaif1.jpg\n",
      "Error: Failed to load image at path: ../dataset\\katrina_kaif\\katrina-kaif3-jpg.jpg\n",
      "Error: Failed to load image at path: ../dataset\\katrina_kaif\\katrinajuly18.jpg\n",
      "Error: Failed to load image at path: ../dataset\\katrina_kaif\\Katrina_Kaif_mom_1674298576255_1674298596971_1674298596971.jpg\n",
      "Error: Failed to load image at path: ../dataset\\katrina_kaif\\kat_0.jpg\n",
      "Error: Failed to load image at path: ../dataset\\katrina_kaif\\mumbai-actress-katrina-bharat-during-upcoming-promotion_9267cd2c-835c-11e9-9324-f283958e02d5.jpg\n",
      "Error: Failed to load image at path: ../dataset\\katrina_kaif\\vicky-kaushal-katrina-kaif.jpg\n",
      "Generating cropped images in folder../dataset/cropped/kiara_advani\n",
      "Error: Failed to load image at path: ../dataset\\kiara_advani\\1627673437_kiara-advani.jpg\n",
      "Error: Failed to load image at path: ../dataset\\kiara_advani\\2594746-dna.jpg\n",
      "Error: Failed to load image at path: ../dataset\\kiara_advani\\990145-kiara-advani-1.jpg\n",
      "Error: Failed to load image at path: ../dataset\\kiara_advani\\com_lookaside_crawler_media_.jpg\n",
      "Error: Failed to load image at path: ../dataset\\kiara_advani\\kiara_advani_1677463808908_1677463809132_1677463809132.jpg\n",
      "Generating cropped images in folder../dataset/cropped/preeti_zinta\n",
      "Error: Failed to load image at path: ../dataset\\preeti_zinta\\neena-gupta-to-preity-zinta-16809469443x2.jpg\n",
      "Error: Failed to load image at path: ../dataset\\preeti_zinta\\Preity-Zinta-120313.jpg\n",
      "Error: Failed to load image at path: ../dataset\\preeti_zinta\\preity480.jpg\n",
      "Error: Failed to load image at path: ../dataset\\preeti_zinta\\prety-zinta-storypage.jpg\n",
      "Error: Failed to load image at path: ../dataset\\preeti_zinta\\suchitra_and_preity-1200-sixteen_nine.jpg_VersionId=I8HTaOXNqLWQHKITKcct.jpg\n",
      "Generating cropped images in folder../dataset/cropped/priyanka_chopra\n",
      "Error: Failed to load image at path: ../dataset\\priyanka_chopra\\132123-priyanka-chopra-re.jpg\n",
      "Error: Failed to load image at path: ../dataset\\priyanka_chopra\\1568173.jpg\n",
      "Error: Failed to load image at path: ../dataset\\priyanka_chopra\\1611410839_priyanka-chopra-1.jpg\n"
     ]
    },
    {
     "name": "stdout",
     "output_type": "stream",
     "text": [
      "Error: Failed to load image at path: ../dataset\\priyanka_chopra\\926638_Wallpaper2.jpg\n",
      "Error: Failed to load image at path: ../dataset\\priyanka_chopra\\927454_Wallpaper2.jpg\n",
      "Error: Failed to load image at path: ../dataset\\priyanka_chopra\\com_lookaside_crawler_media_.jpg\n",
      "Error: Failed to load image at path: ../dataset\\priyanka_chopra\\priyanka2_0.jpg\n",
      "Error: Failed to load image at path: ../dataset\\priyanka_chopra\\priyankachopra759.jpg\n",
      "Error: Failed to load image at path: ../dataset\\priyanka_chopra\\_f9a7e172-dbc3-11e6-84f6-f9b2ee092ea6.jpg\n",
      "Generating cropped images in folder../dataset/cropped/shraddha_kapoor\n",
      "Error: Failed to load image at path: ../dataset\\shraddha_kapoor\\306196-shraddha-2.jpg\n",
      "Error: Failed to load image at path: ../dataset\\shraddha_kapoor\\767882.jpg\n",
      "Error: Failed to load image at path: ../dataset\\shraddha_kapoor\\837723-shraddha-kapoor-rains-1.jpg\n",
      "Error: Failed to load image at path: ../dataset\\shraddha_kapoor\\com_lookaside_crawler_media_.jpg\n",
      "Error: Failed to load image at path: ../dataset\\shraddha_kapoor\\e681144e3f15f61e0730dc7dd82702595fa58.jpg\n",
      "Error: Failed to load image at path: ../dataset\\shraddha_kapoor\\shraddha-4-jpg_300x169xt.jpg\n",
      "Error: Failed to load image at path: ../dataset\\shraddha_kapoor\\shraddha-kapoor-3_1200x630xt.jpg\n",
      "Error: Failed to load image at path: ../dataset\\shraddha_kapoor\\shraddha-kapoor-relationship-breakup.jpg\n",
      "Error: Failed to load image at path: ../dataset\\shraddha_kapoor\\shraddhakapoor-759.jpg\n",
      "Generating cropped images in folder../dataset/cropped/shruti_hassan\n",
      "Error: Failed to load image at path: ../dataset\\shruti_hassan\\1824703-feature-image-2022-05-12t172823.077.jpg\n",
      "Error: Failed to load image at path: ../dataset\\shruti_hassan\\966452-shruti-haasan.jpg\n",
      "Error: Failed to load image at path: ../dataset\\shruti_hassan\\com_lookaside_crawler_media_.jpg\n",
      "Error: Failed to load image at path: ../dataset\\shruti_hassan\\com_seo_google_widget_crawler_.jpg\n",
      "Error: Failed to load image at path: ../dataset\\shruti_hassan\\FindingthemonsterwithinwithShrutisMonsterMachine.jpg\n",
      "Error: Failed to load image at path: ../dataset\\shruti_hassan\\shruti-haasan-monster-machine-new-single-2023-10-2eaa21cc8cbff319e4023b797ab857c1-3x2.jpg\n",
      "Error: Failed to load image at path: ../dataset\\shruti_hassan\\shruti3.jpg\n",
      "Error: Failed to load image at path: ../dataset\\shruti_hassan\\untitled-design-9-30-16487112314x3.jpg\n",
      "Generating cropped images in folder../dataset/cropped/sonam_kapoor\n",
      "Error: Failed to load image at path: ../dataset\\sonam_kapoor\\420008-sonam-kapoor-pti-crop-1.jpg\n",
      "Error: Failed to load image at path: ../dataset\\sonam_kapoor\\494063.jpg\n",
      "Error: Failed to load image at path: ../dataset\\sonam_kapoor\\955989_Wallpaper2.jpg\n",
      "Error: Failed to load image at path: ../dataset\\sonam_kapoor\\com_lookaside_crawler_media_.jpg\n",
      "Error: Failed to load image at path: ../dataset\\sonam_kapoor\\com_seo_google_widget_crawler_.jpg\n",
      "Error: Failed to load image at path: ../dataset\\sonam_kapoor\\sonam-kapoor-marriage-759.jpg\n",
      "Error: Failed to load image at path: ../dataset\\sonam_kapoor\\sonamkapoor-1.jpg\n",
      "Error: Failed to load image at path: ../dataset\\sonam_kapoor\\sonamkapoor-march30.jpg\n",
      "Error: Failed to load image at path: ../dataset\\sonam_kapoor\\Sonam_Kapoor_1649054888716_1649054922916.jpg\n",
      "Error: Failed to load image at path: ../dataset\\sonam_kapoor\\Sonam_Kapoor_3_1701593477409_1701595938974.jpg\n"
     ]
    }
   ],
   "source": [
    "cropped_img_dirs=[]\n",
    "actress_file_name_dict={}\n",
    "\n",
    "for img_dir in img_dirs:\n",
    "    count=1\n",
    "    actress_name= img_dir.split('\\\\')[-1]\n",
    "    \n",
    "    actress_file_name_dict[actress_name]=[]\n",
    "    \n",
    "    for entry in os.scandir(img_dir):\n",
    "        roi_color=get_cropped_img(entry.path)\n",
    "        if roi_color is not None:\n",
    "            cropped_folder=path_cropped_dataset+ actress_name\n",
    "            if not os.path.exists(cropped_folder):\n",
    "                os.makedirs(cropped_folder)\n",
    "                cropped_img_dirs.append(cropped_folder)\n",
    "                print(\"Generating cropped images in folder\"+ cropped_folder)\n",
    "            \n",
    "            cropped_file_name=actress_name+ str(count)+\".png\"\n",
    "            cropped_file_path=cropped_folder+\"/\"+cropped_file_name\n",
    "            \n",
    "            cv2.imwrite(cropped_file_path,roi_color)\n",
    "            actress_file_name_dict[actress_name].append(cropped_file_path)\n",
    "            count+=1"
   ]
  },
  {
   "cell_type": "code",
   "execution_count": 103,
   "id": "8424fe63",
   "metadata": {},
   "outputs": [],
   "source": [
    "import numpy as np\n",
    "# import pywt"
   ]
  },
  {
   "cell_type": "code",
   "execution_count": 19,
   "id": "6f7f9186",
   "metadata": {},
   "outputs": [],
   "source": [
    "# def w2d(img,mode=\"haar\",level=1):\n",
    "#     imarray=img\n",
    "#     imarray=cv2.cvtColor(imarray,cv2.COLOR_RGB2GRAY)\n",
    "#     imarray=np.float32(imarray)\n",
    "#     imarray/=255;\n",
    "    \n",
    "#     coefs=pywt.wavedec2(imarray,mode,level=level)\n",
    "#     coefs_h=list(coefs)\n",
    "#     coefs_h[0]*=0;\n",
    "    \n",
    "#     imarray_h=pywt.waverec2(coefs_h,mode);\n",
    "#     imarray_h*=255;\n",
    "#     imarray_h=np.uint8(imarray_h)\n",
    "    \n",
    "#     return imarray_h"
   ]
  },
  {
   "cell_type": "code",
   "execution_count": 105,
   "id": "4e2fc23a",
   "metadata": {},
   "outputs": [
    {
     "data": {
      "text/plain": [
       "{'aishwarya_rai': 0,\n",
       " 'alia_bhatt': 1,\n",
       " 'anushka_sharma': 2,\n",
       " 'deepika_padukon': 3,\n",
       " 'kareena_kapoor': 4,\n",
       " 'katrina_kaif': 5,\n",
       " 'kiara_advani': 6,\n",
       " 'preeti_zinta': 7,\n",
       " 'priyanka_chopra': 8,\n",
       " 'shraddha_kapoor': 9,\n",
       " 'shruti_hassan': 10,\n",
       " 'sonam_kapoor': 11}"
      ]
     },
     "execution_count": 105,
     "metadata": {},
     "output_type": "execute_result"
    }
   ],
   "source": [
    "actress_dict={}\n",
    "count=0\n",
    "for actress_name in actress_file_name_dict.keys():\n",
    "    if actress_name=='cropped':\n",
    "        continue\n",
    "    actress_dict[actress_name]=count\n",
    "    count+=1\n",
    "actress_dict"
   ]
  },
  {
   "cell_type": "code",
   "execution_count": 128,
   "id": "03a027f7",
   "metadata": {},
   "outputs": [],
   "source": [
    "#placing gray image as a stack below color image and forming X and Y\n",
    "X=[]\n",
    "Y=[]\n",
    "for actress_name,training_files in actress_file_name_dict.items():\n",
    "    for training_img in training_files:\n",
    "        img=cv2.imread(training_img)\n",
    "        \n",
    "        if img is None:\n",
    "            continue\n",
    "        #scalling original coloured raw image\n",
    "        scalled_raw_img=cv2.resize(img,(32,32))\n",
    "#         img_har=w2d(img,'db1',5)\n",
    "#         scalled_har_img=cv2.resize(img_har,(32,32))\n",
    "        \n",
    "#         combined_img=np.vstack((scalled_raw_img.reshape(32*32*3,1),(scalled_har_img.reshape(32*32,1))))\n",
    "        X.append(scalled_raw_img)\n",
    "        Y.append(actress_dict[actress_name])"
   ]
  },
  {
   "cell_type": "code",
   "execution_count": 129,
   "id": "95c71bea",
   "metadata": {},
   "outputs": [
    {
     "data": {
      "text/plain": [
       "714"
      ]
     },
     "execution_count": 129,
     "metadata": {},
     "output_type": "execute_result"
    }
   ],
   "source": [
    "len(X)"
   ]
  },
  {
   "cell_type": "code",
   "execution_count": 137,
   "id": "0a2cdf8f",
   "metadata": {},
   "outputs": [],
   "source": [
    "Y=np.array(Y)\n",
    "X=np.array(X)"
   ]
  },
  {
   "cell_type": "code",
   "execution_count": 138,
   "id": "65969f5d",
   "metadata": {
    "scrolled": true
   },
   "outputs": [
    {
     "data": {
      "text/plain": [
       "(32, 32, 3)"
      ]
     },
     "execution_count": 138,
     "metadata": {},
     "output_type": "execute_result"
    }
   ],
   "source": [
    "X[0].shape"
   ]
  },
  {
   "cell_type": "code",
   "execution_count": 139,
   "id": "250e4b16",
   "metadata": {},
   "outputs": [
    {
     "data": {
      "text/plain": [
       "<matplotlib.image.AxesImage at 0x1e15a1e2970>"
      ]
     },
     "execution_count": 139,
     "metadata": {},
     "output_type": "execute_result"
    },
    {
     "data": {
      "image/png": "[encoded data removed]",
      "text/plain": [
       "<Figure size 640x480 with 1 Axes>"
      ]
     },
     "metadata": {},
     "output_type": "display_data"
    }
   ],
   "source": [
    "plt.imshow(X[100])"
   ]
  },
  {
   "cell_type": "code",
   "execution_count": 140,
   "id": "a7903f38",
   "metadata": {},
   "outputs": [],
   "source": [
    "X=X/255"
   ]
  },
  {
   "cell_type": "code",
   "execution_count": 141,
   "id": "9eed832e",
   "metadata": {},
   "outputs": [
    {
     "data": {
      "text/plain": [
       "(714, 32, 32, 3)"
      ]
     },
     "execution_count": 141,
     "metadata": {},
     "output_type": "execute_result"
    }
   ],
   "source": [
    "X.shape"
   ]
  },
  {
   "cell_type": "code",
   "execution_count": 143,
   "id": "3e8b0839",
   "metadata": {},
   "outputs": [],
   "source": [
    "# from sklearn.preprocessing import StandardScaler\n",
    "# ss=StandardScaler()\n",
    "# X=ss.fit_transform(X)"
   ]
  },
  {
   "cell_type": "code",
   "execution_count": 144,
   "id": "c3861536",
   "metadata": {},
   "outputs": [],
   "source": [
    "from sklearn.model_selection import train_test_split"
   ]
  },
  {
   "cell_type": "code",
   "execution_count": 145,
   "id": "4c043d6d",
   "metadata": {},
   "outputs": [],
   "source": [
    "X_train,X_test,Y_train,Y_test=train_test_split(X,Y,test_size=0.2,random_state=0)"
   ]
  },
  {
   "cell_type": "code",
   "execution_count": 146,
   "id": "2f84279d",
   "metadata": {},
   "outputs": [],
   "source": [
    "import tensorflow as tf\n",
    "from tensorflow import keras\n",
    "from tensorflow.keras import layers"
   ]
  },
  {
   "cell_type": "code",
   "execution_count": 147,
   "id": "22022428",
   "metadata": {},
   "outputs": [
    {
     "data": {
      "text/plain": [
       "12"
      ]
     },
     "execution_count": 147,
     "metadata": {},
     "output_type": "execute_result"
    }
   ],
   "source": [
    "num_classes=len(actress_dict)\n",
    "num_classes"
   ]
  },
  {
   "cell_type": "code",
   "execution_count": 148,
   "id": "7adcd6dd",
   "metadata": {},
   "outputs": [],
   "source": [
    "model=keras.Sequential([\n",
    "    layers.Conv2D(16,3,padding=\"same\",activation=\"relu\"),\n",
    "    layers.MaxPooling2D(),\n",
    "    layers.Conv2D(30,3,padding=\"same\",activation=\"relu\"),\n",
    "    layers.MaxPooling2D(),\n",
    "    layers.Conv2D(45,3,padding=\"same\",activation=\"relu\"),\n",
    "    layers.MaxPooling2D(),\n",
    "    layers.Dropout(0.2),\n",
    "    \n",
    "    layers.Flatten(),\n",
    "    layers.Dense(100,activation=\"relu\"),\n",
    "    layers.Dense(num_classes)\n",
    "])"
   ]
  },
  {
   "cell_type": "code",
   "execution_count": 150,
   "id": "be5a5d53",
   "metadata": {},
   "outputs": [
    {
     "name": "stdout",
     "output_type": "stream",
     "text": [
      "Epoch 1/500\n",
      "18/18 [==============================] - 4s 45ms/step - loss: 2.4948 - accuracy: 0.0963\n",
      "Epoch 2/500\n",
      "18/18 [==============================] - 1s 43ms/step - loss: 2.5009 - accuracy: 0.0858\n",
      "Epoch 3/500\n",
      "18/18 [==============================] - 1s 43ms/step - loss: 2.4849 - accuracy: 0.0911\n",
      "Epoch 4/500\n",
      "18/18 [==============================] - 1s 44ms/step - loss: 2.4849 - accuracy: 0.0771\n",
      "Epoch 5/500\n",
      "18/18 [==============================] - 1s 43ms/step - loss: 2.4849 - accuracy: 0.0771\n",
      "Epoch 6/500\n",
      "18/18 [==============================] - 1s 43ms/step - loss: 2.4849 - accuracy: 0.0928\n",
      "Epoch 7/500\n",
      "18/18 [==============================] - 1s 42ms/step - loss: 2.4849 - accuracy: 0.0876\n",
      "Epoch 8/500\n",
      "18/18 [==============================] - 1s 44ms/step - loss: 2.4849 - accuracy: 0.0876\n",
      "Epoch 9/500\n",
      "18/18 [==============================] - 1s 41ms/step - loss: 2.4986 - accuracy: 0.0701\n",
      "Epoch 10/500\n",
      "18/18 [==============================] - 1s 41ms/step - loss: 2.4849 - accuracy: 0.0771\n",
      "Epoch 11/500\n",
      "18/18 [==============================] - 1s 45ms/step - loss: 2.4849 - accuracy: 0.0771\n",
      "Epoch 12/500\n",
      "18/18 [==============================] - 1s 43ms/step - loss: 2.4849 - accuracy: 0.0771\n",
      "Epoch 13/500\n",
      "18/18 [==============================] - 1s 42ms/step - loss: 2.5021 - accuracy: 0.0665\n",
      "Epoch 14/500\n",
      "18/18 [==============================] - 1s 42ms/step - loss: 2.4849 - accuracy: 0.0998\n",
      "Epoch 15/500\n",
      "18/18 [==============================] - 1s 42ms/step - loss: 2.4849 - accuracy: 0.1016\n",
      "Epoch 16/500\n",
      "18/18 [==============================] - 1s 43ms/step - loss: 2.4849 - accuracy: 0.0911\n",
      "Epoch 17/500\n",
      "18/18 [==============================] - 1s 43ms/step - loss: 2.4849 - accuracy: 0.0893\n",
      "Epoch 18/500\n",
      "18/18 [==============================] - 1s 42ms/step - loss: 2.4849 - accuracy: 0.0893\n",
      "Epoch 19/500\n",
      "18/18 [==============================] - 1s 41ms/step - loss: 2.4849 - accuracy: 0.0806\n",
      "Epoch 20/500\n",
      "18/18 [==============================] - 1s 42ms/step - loss: 2.4849 - accuracy: 0.0718\n",
      "Epoch 21/500\n",
      "18/18 [==============================] - 1s 42ms/step - loss: 2.4849 - accuracy: 0.0841\n",
      "Epoch 22/500\n",
      "18/18 [==============================] - 1s 41ms/step - loss: 2.4849 - accuracy: 0.0823\n",
      "Epoch 23/500\n",
      "18/18 [==============================] - 1s 41ms/step - loss: 2.4849 - accuracy: 0.0788\n",
      "Epoch 24/500\n",
      "18/18 [==============================] - 1s 41ms/step - loss: 2.4849 - accuracy: 0.1051\n",
      "Epoch 25/500\n",
      "18/18 [==============================] - 1s 41ms/step - loss: 2.4849 - accuracy: 0.0893\n",
      "Epoch 26/500\n",
      "18/18 [==============================] - 1s 42ms/step - loss: 2.4849 - accuracy: 0.0963\n",
      "Epoch 27/500\n",
      "18/18 [==============================] - 1s 41ms/step - loss: 2.4849 - accuracy: 0.0753\n",
      "Epoch 28/500\n",
      "18/18 [==============================] - 1s 42ms/step - loss: 2.4849 - accuracy: 0.0736\n",
      "Epoch 29/500\n",
      "18/18 [==============================] - 1s 41ms/step - loss: 2.4849 - accuracy: 0.0963\n",
      "Epoch 30/500\n",
      "18/18 [==============================] - 1s 42ms/step - loss: 2.4849 - accuracy: 0.0841\n",
      "Epoch 31/500\n",
      "18/18 [==============================] - 1s 43ms/step - loss: 2.4849 - accuracy: 0.0806\n",
      "Epoch 32/500\n",
      "18/18 [==============================] - 1s 40ms/step - loss: 2.4849 - accuracy: 0.0788\n",
      "Epoch 33/500\n",
      "18/18 [==============================] - 1s 41ms/step - loss: 2.4849 - accuracy: 0.0946\n",
      "Epoch 34/500\n",
      "18/18 [==============================] - 1s 42ms/step - loss: 2.4849 - accuracy: 0.0683\n",
      "Epoch 35/500\n",
      "18/18 [==============================] - 1s 42ms/step - loss: 2.4849 - accuracy: 0.0963\n",
      "Epoch 36/500\n",
      "18/18 [==============================] - 1s 42ms/step - loss: 2.4849 - accuracy: 0.0823\n",
      "Epoch 37/500\n",
      "18/18 [==============================] - 1s 42ms/step - loss: 2.4849 - accuracy: 0.0858\n",
      "Epoch 38/500\n",
      "18/18 [==============================] - 1s 39ms/step - loss: 2.4849 - accuracy: 0.0771\n",
      "Epoch 39/500\n",
      "18/18 [==============================] - 1s 43ms/step - loss: 2.4849 - accuracy: 0.0806\n",
      "Epoch 40/500\n",
      "18/18 [==============================] - 1s 41ms/step - loss: 2.4849 - accuracy: 0.0823\n",
      "Epoch 41/500\n",
      "18/18 [==============================] - 1s 42ms/step - loss: 2.4849 - accuracy: 0.0701\n",
      "Epoch 42/500\n",
      "18/18 [==============================] - 1s 40ms/step - loss: 2.4849 - accuracy: 0.0998\n",
      "Epoch 43/500\n",
      "18/18 [==============================] - 1s 43ms/step - loss: 2.4849 - accuracy: 0.0911\n",
      "Epoch 44/500\n",
      "18/18 [==============================] - 1s 42ms/step - loss: 2.4849 - accuracy: 0.0788\n",
      "Epoch 45/500\n",
      "18/18 [==============================] - 1s 43ms/step - loss: 2.4849 - accuracy: 0.0858\n",
      "Epoch 46/500\n",
      "18/18 [==============================] - 1s 40ms/step - loss: 2.4849 - accuracy: 0.0771\n",
      "Epoch 47/500\n",
      "18/18 [==============================] - 1s 40ms/step - loss: 2.4849 - accuracy: 0.0946\n",
      "Epoch 48/500\n",
      "18/18 [==============================] - 1s 40ms/step - loss: 2.4849 - accuracy: 0.0928\n",
      "Epoch 49/500\n",
      "18/18 [==============================] - 1s 42ms/step - loss: 2.4849 - accuracy: 0.0771\n",
      "Epoch 50/500\n",
      "18/18 [==============================] - 1s 40ms/step - loss: 2.4849 - accuracy: 0.0771\n",
      "Epoch 51/500\n",
      "18/18 [==============================] - 1s 44ms/step - loss: 2.4849 - accuracy: 0.0998\n",
      "Epoch 52/500\n",
      "18/18 [==============================] - 1s 43ms/step - loss: 2.4849 - accuracy: 0.0806\n",
      "Epoch 53/500\n",
      "18/18 [==============================] - 1s 41ms/step - loss: 2.4849 - accuracy: 0.0718\n",
      "Epoch 54/500\n",
      "18/18 [==============================] - 1s 41ms/step - loss: 2.4849 - accuracy: 0.0911\n",
      "Epoch 55/500\n",
      "18/18 [==============================] - 1s 41ms/step - loss: 2.4849 - accuracy: 0.0876\n",
      "Epoch 56/500\n",
      "18/18 [==============================] - 1s 42ms/step - loss: 2.4849 - accuracy: 0.0823\n",
      "Epoch 57/500\n",
      "18/18 [==============================] - 1s 44ms/step - loss: 2.4849 - accuracy: 0.0788\n",
      "Epoch 58/500\n",
      "18/18 [==============================] - 1s 42ms/step - loss: 2.4849 - accuracy: 0.0963\n",
      "Epoch 59/500\n",
      "18/18 [==============================] - 1s 41ms/step - loss: 2.4849 - accuracy: 0.0823\n",
      "Epoch 60/500\n",
      "18/18 [==============================] - 1s 42ms/step - loss: 2.4849 - accuracy: 0.0753\n",
      "Epoch 61/500\n",
      "18/18 [==============================] - 1s 41ms/step - loss: 2.4849 - accuracy: 0.0841\n",
      "Epoch 62/500\n",
      "18/18 [==============================] - 1s 41ms/step - loss: 2.4849 - accuracy: 0.0998\n",
      "Epoch 63/500\n",
      "18/18 [==============================] - 1s 42ms/step - loss: 2.4849 - accuracy: 0.0876\n",
      "Epoch 64/500\n",
      "18/18 [==============================] - 1s 42ms/step - loss: 2.4849 - accuracy: 0.0893\n",
      "Epoch 65/500\n",
      "18/18 [==============================] - 1s 43ms/step - loss: 2.4849 - accuracy: 0.0683\n",
      "Epoch 66/500\n",
      "18/18 [==============================] - 1s 41ms/step - loss: 2.4849 - accuracy: 0.0823\n",
      "Epoch 67/500\n",
      "18/18 [==============================] - 1s 42ms/step - loss: 2.4849 - accuracy: 0.0981\n",
      "Epoch 68/500\n",
      "18/18 [==============================] - 1s 40ms/step - loss: 2.4849 - accuracy: 0.1051\n",
      "Epoch 69/500\n",
      "18/18 [==============================] - 1s 42ms/step - loss: 2.4849 - accuracy: 0.0753\n",
      "Epoch 70/500\n",
      "18/18 [==============================] - 1s 41ms/step - loss: 2.4849 - accuracy: 0.0911\n",
      "Epoch 71/500\n"
     ]
    },
    {
     "ename": "KeyboardInterrupt",
     "evalue": "",
     "output_type": "error",
     "traceback": [
      "\u001b[1;31m---------------------------------------------------------------------------\u001b[0m",
      "\u001b[1;31mKeyboardInterrupt\u001b[0m                         Traceback (most recent call last)",
      "\u001b[1;32m~\\AppData\\Local\\Temp\\ipykernel_40836\\3346691778.py\u001b[0m in \u001b[0;36m<module>\u001b[1;34m\u001b[0m\n\u001b[0;32m      4\u001b[0m     \u001b[0moptimizer\u001b[0m\u001b[1;33m=\u001b[0m\u001b[1;34m\"adam\"\u001b[0m\u001b[1;33m\u001b[0m\u001b[1;33m\u001b[0m\u001b[0m\n\u001b[0;32m      5\u001b[0m )\n\u001b[1;32m----> 6\u001b[1;33m \u001b[0mmodel\u001b[0m\u001b[1;33m.\u001b[0m\u001b[0mfit\u001b[0m\u001b[1;33m(\u001b[0m\u001b[0mX_train\u001b[0m\u001b[1;33m,\u001b[0m\u001b[0mY_train\u001b[0m\u001b[1;33m,\u001b[0m\u001b[0mepochs\u001b[0m\u001b[1;33m=\u001b[0m\u001b[1;36m500\u001b[0m\u001b[1;33m)\u001b[0m\u001b[1;33m\u001b[0m\u001b[1;33m\u001b[0m\u001b[0m\n\u001b[0m",
      "\u001b[1;32m~\\anaconda3\\lib\\site-packages\\keras\\utils\\traceback_utils.py\u001b[0m in \u001b[0;36merror_handler\u001b[1;34m(*args, **kwargs)\u001b[0m\n\u001b[0;32m     63\u001b[0m         \u001b[0mfiltered_tb\u001b[0m \u001b[1;33m=\u001b[0m \u001b[1;32mNone\u001b[0m\u001b[1;33m\u001b[0m\u001b[1;33m\u001b[0m\u001b[0m\n\u001b[0;32m     64\u001b[0m         \u001b[1;32mtry\u001b[0m\u001b[1;33m:\u001b[0m\u001b[1;33m\u001b[0m\u001b[1;33m\u001b[0m\u001b[0m\n\u001b[1;32m---> 65\u001b[1;33m             \u001b[1;32mreturn\u001b[0m \u001b[0mfn\u001b[0m\u001b[1;33m(\u001b[0m\u001b[1;33m*\u001b[0m\u001b[0margs\u001b[0m\u001b[1;33m,\u001b[0m \u001b[1;33m**\u001b[0m\u001b[0mkwargs\u001b[0m\u001b[1;33m)\u001b[0m\u001b[1;33m\u001b[0m\u001b[1;33m\u001b[0m\u001b[0m\n\u001b[0m\u001b[0;32m     66\u001b[0m         \u001b[1;32mexcept\u001b[0m \u001b[0mException\u001b[0m \u001b[1;32mas\u001b[0m \u001b[0me\u001b[0m\u001b[1;33m:\u001b[0m\u001b[1;33m\u001b[0m\u001b[1;33m\u001b[0m\u001b[0m\n\u001b[0;32m     67\u001b[0m             \u001b[0mfiltered_tb\u001b[0m \u001b[1;33m=\u001b[0m \u001b[0m_process_traceback_frames\u001b[0m\u001b[1;33m(\u001b[0m\u001b[0me\u001b[0m\u001b[1;33m.\u001b[0m\u001b[0m__traceback__\u001b[0m\u001b[1;33m)\u001b[0m\u001b[1;33m\u001b[0m\u001b[1;33m\u001b[0m\u001b[0m\n",
      "\u001b[1;32m~\\anaconda3\\lib\\site-packages\\keras\\engine\\training.py\u001b[0m in \u001b[0;36mfit\u001b[1;34m(self, x, y, batch_size, epochs, verbose, callbacks, validation_split, validation_data, shuffle, class_weight, sample_weight, initial_epoch, steps_per_epoch, validation_steps, validation_batch_size, validation_freq, max_queue_size, workers, use_multiprocessing)\u001b[0m\n\u001b[0;32m   1648\u001b[0m                         ):\n\u001b[0;32m   1649\u001b[0m                             \u001b[0mcallbacks\u001b[0m\u001b[1;33m.\u001b[0m\u001b[0mon_train_batch_begin\u001b[0m\u001b[1;33m(\u001b[0m\u001b[0mstep\u001b[0m\u001b[1;33m)\u001b[0m\u001b[1;33m\u001b[0m\u001b[1;33m\u001b[0m\u001b[0m\n\u001b[1;32m-> 1650\u001b[1;33m                             \u001b[0mtmp_logs\u001b[0m \u001b[1;33m=\u001b[0m \u001b[0mself\u001b[0m\u001b[1;33m.\u001b[0m\u001b[0mtrain_function\u001b[0m\u001b[1;33m(\u001b[0m\u001b[0miterator\u001b[0m\u001b[1;33m)\u001b[0m\u001b[1;33m\u001b[0m\u001b[1;33m\u001b[0m\u001b[0m\n\u001b[0m\u001b[0;32m   1651\u001b[0m                             \u001b[1;32mif\u001b[0m \u001b[0mdata_handler\u001b[0m\u001b[1;33m.\u001b[0m\u001b[0mshould_sync\u001b[0m\u001b[1;33m:\u001b[0m\u001b[1;33m\u001b[0m\u001b[1;33m\u001b[0m\u001b[0m\n\u001b[0;32m   1652\u001b[0m                                 \u001b[0mcontext\u001b[0m\u001b[1;33m.\u001b[0m\u001b[0masync_wait\u001b[0m\u001b[1;33m(\u001b[0m\u001b[1;33m)\u001b[0m\u001b[1;33m\u001b[0m\u001b[1;33m\u001b[0m\u001b[0m\n",
      "\u001b[1;32m~\\anaconda3\\lib\\site-packages\\tensorflow\\python\\util\\traceback_utils.py\u001b[0m in \u001b[0;36merror_handler\u001b[1;34m(*args, **kwargs)\u001b[0m\n\u001b[0;32m    148\u001b[0m     \u001b[0mfiltered_tb\u001b[0m \u001b[1;33m=\u001b[0m \u001b[1;32mNone\u001b[0m\u001b[1;33m\u001b[0m\u001b[1;33m\u001b[0m\u001b[0m\n\u001b[0;32m    149\u001b[0m     \u001b[1;32mtry\u001b[0m\u001b[1;33m:\u001b[0m\u001b[1;33m\u001b[0m\u001b[1;33m\u001b[0m\u001b[0m\n\u001b[1;32m--> 150\u001b[1;33m       \u001b[1;32mreturn\u001b[0m \u001b[0mfn\u001b[0m\u001b[1;33m(\u001b[0m\u001b[1;33m*\u001b[0m\u001b[0margs\u001b[0m\u001b[1;33m,\u001b[0m \u001b[1;33m**\u001b[0m\u001b[0mkwargs\u001b[0m\u001b[1;33m)\u001b[0m\u001b[1;33m\u001b[0m\u001b[1;33m\u001b[0m\u001b[0m\n\u001b[0m\u001b[0;32m    151\u001b[0m     \u001b[1;32mexcept\u001b[0m \u001b[0mException\u001b[0m \u001b[1;32mas\u001b[0m \u001b[0me\u001b[0m\u001b[1;33m:\u001b[0m\u001b[1;33m\u001b[0m\u001b[1;33m\u001b[0m\u001b[0m\n\u001b[0;32m    152\u001b[0m       \u001b[0mfiltered_tb\u001b[0m \u001b[1;33m=\u001b[0m \u001b[0m_process_traceback_frames\u001b[0m\u001b[1;33m(\u001b[0m\u001b[0me\u001b[0m\u001b[1;33m.\u001b[0m\u001b[0m__traceback__\u001b[0m\u001b[1;33m)\u001b[0m\u001b[1;33m\u001b[0m\u001b[1;33m\u001b[0m\u001b[0m\n",
      "\u001b[1;32m~\\anaconda3\\lib\\site-packages\\tensorflow\\python\\eager\\polymorphic_function\\polymorphic_function.py\u001b[0m in \u001b[0;36m__call__\u001b[1;34m(self, *args, **kwds)\u001b[0m\n\u001b[0;32m    878\u001b[0m \u001b[1;33m\u001b[0m\u001b[0m\n\u001b[0;32m    879\u001b[0m       \u001b[1;32mwith\u001b[0m \u001b[0mOptionalXlaContext\u001b[0m\u001b[1;33m(\u001b[0m\u001b[0mself\u001b[0m\u001b[1;33m.\u001b[0m\u001b[0m_jit_compile\u001b[0m\u001b[1;33m)\u001b[0m\u001b[1;33m:\u001b[0m\u001b[1;33m\u001b[0m\u001b[1;33m\u001b[0m\u001b[0m\n\u001b[1;32m--> 880\u001b[1;33m         \u001b[0mresult\u001b[0m \u001b[1;33m=\u001b[0m \u001b[0mself\u001b[0m\u001b[1;33m.\u001b[0m\u001b[0m_call\u001b[0m\u001b[1;33m(\u001b[0m\u001b[1;33m*\u001b[0m\u001b[0margs\u001b[0m\u001b[1;33m,\u001b[0m \u001b[1;33m**\u001b[0m\u001b[0mkwds\u001b[0m\u001b[1;33m)\u001b[0m\u001b[1;33m\u001b[0m\u001b[1;33m\u001b[0m\u001b[0m\n\u001b[0m\u001b[0;32m    881\u001b[0m \u001b[1;33m\u001b[0m\u001b[0m\n\u001b[0;32m    882\u001b[0m       \u001b[0mnew_tracing_count\u001b[0m \u001b[1;33m=\u001b[0m \u001b[0mself\u001b[0m\u001b[1;33m.\u001b[0m\u001b[0mexperimental_get_tracing_count\u001b[0m\u001b[1;33m(\u001b[0m\u001b[1;33m)\u001b[0m\u001b[1;33m\u001b[0m\u001b[1;33m\u001b[0m\u001b[0m\n",
      "\u001b[1;32m~\\anaconda3\\lib\\site-packages\\tensorflow\\python\\eager\\polymorphic_function\\polymorphic_function.py\u001b[0m in \u001b[0;36m_call\u001b[1;34m(self, *args, **kwds)\u001b[0m\n\u001b[0;32m    910\u001b[0m       \u001b[1;31m# In this case we have created variables on the first call, so we run the\u001b[0m\u001b[1;33m\u001b[0m\u001b[1;33m\u001b[0m\u001b[0m\n\u001b[0;32m    911\u001b[0m       \u001b[1;31m# defunned version which is guaranteed to never create variables.\u001b[0m\u001b[1;33m\u001b[0m\u001b[1;33m\u001b[0m\u001b[0m\n\u001b[1;32m--> 912\u001b[1;33m       \u001b[1;32mreturn\u001b[0m \u001b[0mself\u001b[0m\u001b[1;33m.\u001b[0m\u001b[0m_no_variable_creation_fn\u001b[0m\u001b[1;33m(\u001b[0m\u001b[1;33m*\u001b[0m\u001b[0margs\u001b[0m\u001b[1;33m,\u001b[0m \u001b[1;33m**\u001b[0m\u001b[0mkwds\u001b[0m\u001b[1;33m)\u001b[0m  \u001b[1;31m# pylint: disable=not-callable\u001b[0m\u001b[1;33m\u001b[0m\u001b[1;33m\u001b[0m\u001b[0m\n\u001b[0m\u001b[0;32m    913\u001b[0m     \u001b[1;32melif\u001b[0m \u001b[0mself\u001b[0m\u001b[1;33m.\u001b[0m\u001b[0m_variable_creation_fn\u001b[0m \u001b[1;32mis\u001b[0m \u001b[1;32mnot\u001b[0m \u001b[1;32mNone\u001b[0m\u001b[1;33m:\u001b[0m\u001b[1;33m\u001b[0m\u001b[1;33m\u001b[0m\u001b[0m\n\u001b[0;32m    914\u001b[0m       \u001b[1;31m# Release the lock early so that multiple threads can perform the call\u001b[0m\u001b[1;33m\u001b[0m\u001b[1;33m\u001b[0m\u001b[0m\n",
      "\u001b[1;32m~\\anaconda3\\lib\\site-packages\\tensorflow\\python\\eager\\polymorphic_function\\tracing_compiler.py\u001b[0m in \u001b[0;36m__call__\u001b[1;34m(self, *args, **kwargs)\u001b[0m\n\u001b[0;32m    132\u001b[0m       (concrete_function,\n\u001b[0;32m    133\u001b[0m        filtered_flat_args) = self._maybe_define_function(args, kwargs)\n\u001b[1;32m--> 134\u001b[1;33m     return concrete_function._call_flat(\n\u001b[0m\u001b[0;32m    135\u001b[0m         filtered_flat_args, captured_inputs=concrete_function.captured_inputs)  # pylint: disable=protected-access\n\u001b[0;32m    136\u001b[0m \u001b[1;33m\u001b[0m\u001b[0m\n",
      "\u001b[1;32m~\\anaconda3\\lib\\site-packages\\tensorflow\\python\\eager\\polymorphic_function\\monomorphic_function.py\u001b[0m in \u001b[0;36m_call_flat\u001b[1;34m(self, args, captured_inputs, cancellation_manager)\u001b[0m\n\u001b[0;32m   1743\u001b[0m         and executing_eagerly):\n\u001b[0;32m   1744\u001b[0m       \u001b[1;31m# No tape is watching; skip to running the function.\u001b[0m\u001b[1;33m\u001b[0m\u001b[1;33m\u001b[0m\u001b[0m\n\u001b[1;32m-> 1745\u001b[1;33m       return self._build_call_outputs(self._inference_function.call(\n\u001b[0m\u001b[0;32m   1746\u001b[0m           ctx, args, cancellation_manager=cancellation_manager))\n\u001b[0;32m   1747\u001b[0m     forward_backward = self._select_forward_and_backward_functions(\n",
      "\u001b[1;32m~\\anaconda3\\lib\\site-packages\\tensorflow\\python\\eager\\polymorphic_function\\monomorphic_function.py\u001b[0m in \u001b[0;36mcall\u001b[1;34m(self, ctx, args, cancellation_manager)\u001b[0m\n\u001b[0;32m    376\u001b[0m       \u001b[1;32mwith\u001b[0m \u001b[0m_InterpolateFunctionError\u001b[0m\u001b[1;33m(\u001b[0m\u001b[0mself\u001b[0m\u001b[1;33m)\u001b[0m\u001b[1;33m:\u001b[0m\u001b[1;33m\u001b[0m\u001b[1;33m\u001b[0m\u001b[0m\n\u001b[0;32m    377\u001b[0m         \u001b[1;32mif\u001b[0m \u001b[0mcancellation_manager\u001b[0m \u001b[1;32mis\u001b[0m \u001b[1;32mNone\u001b[0m\u001b[1;33m:\u001b[0m\u001b[1;33m\u001b[0m\u001b[1;33m\u001b[0m\u001b[0m\n\u001b[1;32m--> 378\u001b[1;33m           outputs = execute.execute(\n\u001b[0m\u001b[0;32m    379\u001b[0m               \u001b[0mstr\u001b[0m\u001b[1;33m(\u001b[0m\u001b[0mself\u001b[0m\u001b[1;33m.\u001b[0m\u001b[0msignature\u001b[0m\u001b[1;33m.\u001b[0m\u001b[0mname\u001b[0m\u001b[1;33m)\u001b[0m\u001b[1;33m,\u001b[0m\u001b[1;33m\u001b[0m\u001b[1;33m\u001b[0m\u001b[0m\n\u001b[0;32m    380\u001b[0m               \u001b[0mnum_outputs\u001b[0m\u001b[1;33m=\u001b[0m\u001b[0mself\u001b[0m\u001b[1;33m.\u001b[0m\u001b[0m_num_outputs\u001b[0m\u001b[1;33m,\u001b[0m\u001b[1;33m\u001b[0m\u001b[1;33m\u001b[0m\u001b[0m\n",
      "\u001b[1;32m~\\anaconda3\\lib\\site-packages\\tensorflow\\python\\eager\\execute.py\u001b[0m in \u001b[0;36mquick_execute\u001b[1;34m(op_name, num_outputs, inputs, attrs, ctx, name)\u001b[0m\n\u001b[0;32m     50\u001b[0m   \u001b[1;32mtry\u001b[0m\u001b[1;33m:\u001b[0m\u001b[1;33m\u001b[0m\u001b[1;33m\u001b[0m\u001b[0m\n\u001b[0;32m     51\u001b[0m     \u001b[0mctx\u001b[0m\u001b[1;33m.\u001b[0m\u001b[0mensure_initialized\u001b[0m\u001b[1;33m(\u001b[0m\u001b[1;33m)\u001b[0m\u001b[1;33m\u001b[0m\u001b[1;33m\u001b[0m\u001b[0m\n\u001b[1;32m---> 52\u001b[1;33m     tensors = pywrap_tfe.TFE_Py_Execute(ctx._handle, device_name, op_name,\n\u001b[0m\u001b[0;32m     53\u001b[0m                                         inputs, attrs, num_outputs)\n\u001b[0;32m     54\u001b[0m   \u001b[1;32mexcept\u001b[0m \u001b[0mcore\u001b[0m\u001b[1;33m.\u001b[0m\u001b[0m_NotOkStatusException\u001b[0m \u001b[1;32mas\u001b[0m \u001b[0me\u001b[0m\u001b[1;33m:\u001b[0m\u001b[1;33m\u001b[0m\u001b[1;33m\u001b[0m\u001b[0m\n",
      "\u001b[1;31mKeyboardInterrupt\u001b[0m: "
     ]
    }
   ],
   "source": [
    "model.compile(\n",
    "    loss=\"sparse_categorical_crossentropy\",\n",
    "    metrics=[\"accuracy\"],\n",
    "    optimizer=\"adam\"\n",
    ")\n",
    "model.fit(X_train,Y_train,epochs=500)"
   ]
  },
  {
   "cell_type": "code",
   "execution_count": 151,
   "id": "8510b200",
   "metadata": {},
   "outputs": [
    {
     "name": "stdout",
     "output_type": "stream",
     "text": [
      "5/5 [==============================] - 1s 20ms/step - loss: 2.4849 - accuracy: 0.0559\n"
     ]
    },
    {
     "data": {
      "text/plain": [
       "[2.4849066734313965, 0.0559440553188324]"
      ]
     },
     "execution_count": 151,
     "metadata": {},
     "output_type": "execute_result"
    }
   ],
   "source": [
    "model.evaluate(X_test,Y_test)"
   ]
  },
  {
   "cell_type": "code",
   "execution_count": null,
   "id": "27241116",
   "metadata": {},
   "outputs": [],
   "source": []
  }
 ],
 "metadata": {
  "kernelspec": {
   "display_name": "Python 3 (ipykernel)",
   "language": "python",
   "name": "python3"
  },
  "language_info": {
   "codemirror_mode": {
    "name": "ipython",
    "version": 3
   },
   "file_extension": ".py",
   "mimetype": "text/x-python",
   "name": "python",
   "nbconvert_exporter": "python",
   "pygments_lexer": "ipython3",
   "version": "3.9.13"
  }
 },
 "nbformat": 4,
 "nbformat_minor": 5
}
